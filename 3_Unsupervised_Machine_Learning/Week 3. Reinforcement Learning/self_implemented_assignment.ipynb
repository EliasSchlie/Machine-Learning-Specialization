{
 "cells": [
  {
   "cell_type": "code",
   "execution_count": 13,
   "id": "ea05633f",
   "metadata": {},
   "outputs": [],
   "source": [
    "import numpy as np"
   ]
  },
  {
   "cell_type": "code",
   "execution_count": 1,
   "id": "45dbd036",
   "metadata": {},
   "outputs": [
    {
     "name": "stderr",
     "output_type": "stream",
     "text": [
      "/Users/mee/Documents/Projects/Machine-Learning-Specialization/.venv/lib/python3.13/site-packages/pygame/pkgdata.py:25: UserWarning: pkg_resources is deprecated as an API. See https://setuptools.pypa.io/en/latest/pkg_resources.html. The pkg_resources package is slated for removal as early as 2025-11-30. Refrain from using this package or pin to Setuptools<81.\n",
      "  from pkg_resources import resource_stream, resource_exists\n"
     ]
    }
   ],
   "source": [
    "import gymnasium as gym\n",
    "\n",
    "# Initialise the environment\n",
    "env = gym.make(\"LunarLander-v3\", render_mode=\"human\")\n",
    "\n",
    "# Reset the environment to generate the first observation\n",
    "# observation, info = env.reset(seed=42)\n",
    "# for _ in range(100):\n",
    "#     # this is where you would insert your policy\n",
    "#     action = env.action_space.sample()\n",
    "\n",
    "#     # step (transition) through the environment with the action\n",
    "#     # receiving the next observation, reward and if the episode has terminated or truncated\n",
    "#     observation, reward, terminated, truncated, info = env.step(action)\n",
    "\n",
    "#     # If the episode has ended then we can reset to start a new episode\n",
    "#     if terminated or truncated:\n",
    "#         observation, info = env.reset()\n",
    "\n",
    "# env.close()"
   ]
  },
  {
   "cell_type": "code",
   "execution_count": 2,
   "id": "ec64e5aa",
   "metadata": {},
   "outputs": [],
   "source": [
    "# env.observation_space"
   ]
  },
  {
   "cell_type": "code",
   "execution_count": 9,
   "id": "d3985aef",
   "metadata": {},
   "outputs": [
    {
     "data": {
      "text/html": [
       "<pre style=\"white-space:pre;overflow-x:auto;line-height:normal;font-family:Menlo,'DejaVu Sans Mono',consolas,'Courier New',monospace\"><span style=\"font-weight: bold\">Model: \"sequential_3\"</span>\n",
       "</pre>\n"
      ],
      "text/plain": [
       "\u001b[1mModel: \"sequential_3\"\u001b[0m\n"
      ]
     },
     "metadata": {},
     "output_type": "display_data"
    },
    {
     "data": {
      "text/html": [
       "<pre style=\"white-space:pre;overflow-x:auto;line-height:normal;font-family:Menlo,'DejaVu Sans Mono',consolas,'Courier New',monospace\">┏━━━━━━━━━━━━━━━━━━━━━━━━━━━━━━━━━┳━━━━━━━━━━━━━━━━━━━━━━━━┳━━━━━━━━━━━━━━━┓\n",
       "┃<span style=\"font-weight: bold\"> Layer (type)                    </span>┃<span style=\"font-weight: bold\"> Output Shape           </span>┃<span style=\"font-weight: bold\">       Param # </span>┃\n",
       "┡━━━━━━━━━━━━━━━━━━━━━━━━━━━━━━━━━╇━━━━━━━━━━━━━━━━━━━━━━━━╇━━━━━━━━━━━━━━━┩\n",
       "│ dense_15 (<span style=\"color: #0087ff; text-decoration-color: #0087ff\">Dense</span>)                │ (<span style=\"color: #00d7ff; text-decoration-color: #00d7ff\">None</span>, <span style=\"color: #00af00; text-decoration-color: #00af00\">64</span>)             │           <span style=\"color: #00af00; text-decoration-color: #00af00\">576</span> │\n",
       "├─────────────────────────────────┼────────────────────────┼───────────────┤\n",
       "│ dense_16 (<span style=\"color: #0087ff; text-decoration-color: #0087ff\">Dense</span>)                │ (<span style=\"color: #00d7ff; text-decoration-color: #00d7ff\">None</span>, <span style=\"color: #00af00; text-decoration-color: #00af00\">64</span>)             │         <span style=\"color: #00af00; text-decoration-color: #00af00\">4,160</span> │\n",
       "├─────────────────────────────────┼────────────────────────┼───────────────┤\n",
       "│ dense_17 (<span style=\"color: #0087ff; text-decoration-color: #0087ff\">Dense</span>)                │ (<span style=\"color: #00d7ff; text-decoration-color: #00d7ff\">None</span>, <span style=\"color: #00af00; text-decoration-color: #00af00\">4</span>)              │           <span style=\"color: #00af00; text-decoration-color: #00af00\">260</span> │\n",
       "└─────────────────────────────────┴────────────────────────┴───────────────┘\n",
       "</pre>\n"
      ],
      "text/plain": [
       "┏━━━━━━━━━━━━━━━━━━━━━━━━━━━━━━━━━┳━━━━━━━━━━━━━━━━━━━━━━━━┳━━━━━━━━━━━━━━━┓\n",
       "┃\u001b[1m \u001b[0m\u001b[1mLayer (type)                   \u001b[0m\u001b[1m \u001b[0m┃\u001b[1m \u001b[0m\u001b[1mOutput Shape          \u001b[0m\u001b[1m \u001b[0m┃\u001b[1m \u001b[0m\u001b[1m      Param #\u001b[0m\u001b[1m \u001b[0m┃\n",
       "┡━━━━━━━━━━━━━━━━━━━━━━━━━━━━━━━━━╇━━━━━━━━━━━━━━━━━━━━━━━━╇━━━━━━━━━━━━━━━┩\n",
       "│ dense_15 (\u001b[38;5;33mDense\u001b[0m)                │ (\u001b[38;5;45mNone\u001b[0m, \u001b[38;5;34m64\u001b[0m)             │           \u001b[38;5;34m576\u001b[0m │\n",
       "├─────────────────────────────────┼────────────────────────┼───────────────┤\n",
       "│ dense_16 (\u001b[38;5;33mDense\u001b[0m)                │ (\u001b[38;5;45mNone\u001b[0m, \u001b[38;5;34m64\u001b[0m)             │         \u001b[38;5;34m4,160\u001b[0m │\n",
       "├─────────────────────────────────┼────────────────────────┼───────────────┤\n",
       "│ dense_17 (\u001b[38;5;33mDense\u001b[0m)                │ (\u001b[38;5;45mNone\u001b[0m, \u001b[38;5;34m4\u001b[0m)              │           \u001b[38;5;34m260\u001b[0m │\n",
       "└─────────────────────────────────┴────────────────────────┴───────────────┘\n"
      ]
     },
     "metadata": {},
     "output_type": "display_data"
    },
    {
     "data": {
      "text/html": [
       "<pre style=\"white-space:pre;overflow-x:auto;line-height:normal;font-family:Menlo,'DejaVu Sans Mono',consolas,'Courier New',monospace\"><span style=\"font-weight: bold\"> Total params: </span><span style=\"color: #00af00; text-decoration-color: #00af00\">4,996</span> (19.52 KB)\n",
       "</pre>\n"
      ],
      "text/plain": [
       "\u001b[1m Total params: \u001b[0m\u001b[38;5;34m4,996\u001b[0m (19.52 KB)\n"
      ]
     },
     "metadata": {},
     "output_type": "display_data"
    },
    {
     "data": {
      "text/html": [
       "<pre style=\"white-space:pre;overflow-x:auto;line-height:normal;font-family:Menlo,'DejaVu Sans Mono',consolas,'Courier New',monospace\"><span style=\"font-weight: bold\"> Trainable params: </span><span style=\"color: #00af00; text-decoration-color: #00af00\">4,996</span> (19.52 KB)\n",
       "</pre>\n"
      ],
      "text/plain": [
       "\u001b[1m Trainable params: \u001b[0m\u001b[38;5;34m4,996\u001b[0m (19.52 KB)\n"
      ]
     },
     "metadata": {},
     "output_type": "display_data"
    },
    {
     "data": {
      "text/html": [
       "<pre style=\"white-space:pre;overflow-x:auto;line-height:normal;font-family:Menlo,'DejaVu Sans Mono',consolas,'Courier New',monospace\"><span style=\"font-weight: bold\"> Non-trainable params: </span><span style=\"color: #00af00; text-decoration-color: #00af00\">0</span> (0.00 B)\n",
       "</pre>\n"
      ],
      "text/plain": [
       "\u001b[1m Non-trainable params: \u001b[0m\u001b[38;5;34m0\u001b[0m (0.00 B)\n"
      ]
     },
     "metadata": {},
     "output_type": "display_data"
    }
   ],
   "source": [
    "import tensorflow as tf\n",
    "from tensorflow.keras import layers, models\n",
    "\n",
    "# Define the model\n",
    "q_network = models.Sequential([\n",
    "    layers.Input(shape=(8,)),        # 8 input features (neurons)\n",
    "    layers.Dense(64, activation='relu'),  # First hidden layer with 64 neurons\n",
    "    layers.Dense(64, activation='relu'),  # Second hidden layer with 64 neurons\n",
    "    layers.Dense(4, activation='linear') # Output layer with 4 neurons\n",
    "])\n",
    "\n",
    "# Compile the model\n",
    "q_network.compile(optimizer='adam',\n",
    "              loss='categorical_crossentropy',   # or 'sparse_categorical_crossentropy' if labels are ints\n",
    "              metrics=['accuracy'])\n",
    "\n",
    "# Show model summary\n",
    "q_network.summary()"
   ]
  },
  {
   "cell_type": "code",
   "execution_count": 10,
   "id": "08925ca4",
   "metadata": {},
   "outputs": [],
   "source": [
    "target_q_network = tf.keras.models.clone_model(q_network)\n",
    "target_q_network.build(q_network.input_shape)\n",
    "target_q_network.set_weights(q_network.get_weights())\n"
   ]
  },
  {
   "cell_type": "code",
   "execution_count": 4,
   "id": "2dfab945",
   "metadata": {},
   "outputs": [],
   "source": [
    "memory_buffer = []"
   ]
  },
  {
   "cell_type": "code",
   "execution_count": 14,
   "id": "c3ed8454",
   "metadata": {},
   "outputs": [],
   "source": [
    "num_episodes = 10\n",
    "epsilon = 0.1\n",
    "c = 100\n"
   ]
  },
  {
   "cell_type": "code",
   "execution_count": null,
   "id": "d9ace287",
   "metadata": {},
   "outputs": [],
   "source": [
    "for i in range(num_episodes):\n",
    "    observation, info = env.reset()\n",
    "    while True:\n",
    "        \n",
    "        # Policy\n",
    "        epsilon = 0.1\n",
    "        if np.random.random() < epsilon:\n",
    "            action = env.action_space.sample()\n",
    "        else:\n",
    "            q_values = q_network.predict(observation.reshape(1, -1))\n",
    "            action = tf.argmax(q_values[0]).numpy()\n",
    "\n",
    "        # step (transition) through the environment with the action\n",
    "        # receiving the next observation, reward and if the episode has terminated or truncated\n",
    "        observation, reward, terminated, truncated, info = env.step(action)\n",
    "        \n",
    "        # Store the experience in the memory buffer\n",
    "        memory_buffer.append((observation, action, reward, terminated, truncated))\n",
    "        if len(memory_buffer) > 10000:\n",
    "            memory_buffer.pop(0)\n",
    "\n",
    "        if c_count > c:\n",
    "            c_count = 0\n",
    "            # Update the target network\n",
    "            target_q_network.set_weights(q_network.get_weights()) # This can't work because I never updated the main network before\n",
    "        else:\n",
    "            c_count += 1\n",
    "\n",
    "        # If the episode has ended then we can reset to start a new episode\n",
    "        if terminated or truncated:\n",
    "            break\n",
    "\n",
    "env.close()"
   ]
  },
  {
   "cell_type": "code",
   "execution_count": null,
   "id": "acae3c5f",
   "metadata": {},
   "outputs": [],
   "source": [
    "# observation, info = env.reset(seed=42)\n",
    "# for _ in range(100):\n",
    "#     # this is where you would insert your policy\n",
    "#     action = env.action_space.sample()\n",
    "\n",
    "#     # step (transition) through the environment with the action\n",
    "#     # receiving the next observation, reward and if the episode has terminated or truncated\n",
    "#     observation, reward, terminated, truncated, info = env.step(action)\n",
    "\n",
    "#     # If the episode has ended then we can reset to start a new episode\n",
    "#     if terminated or truncated:\n",
    "#         observation, info = env.reset()\n",
    "\n",
    "# env.close()"
   ]
  }
 ],
 "metadata": {
  "kernelspec": {
   "display_name": ".venv",
   "language": "python",
   "name": "python3"
  },
  "language_info": {
   "codemirror_mode": {
    "name": "ipython",
    "version": 3
   },
   "file_extension": ".py",
   "mimetype": "text/x-python",
   "name": "python",
   "nbconvert_exporter": "python",
   "pygments_lexer": "ipython3",
   "version": "3.13.5"
  }
 },
 "nbformat": 4,
 "nbformat_minor": 5
}
